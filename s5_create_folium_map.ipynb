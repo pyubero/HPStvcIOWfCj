{
 "cells": [
  {
   "cell_type": "code",
   "execution_count": 1,
   "id": "53659266",
   "metadata": {},
   "outputs": [
    {
     "name": "stderr",
     "output_type": "stream",
     "text": [
      "C:\\Users\\pablo\\AppData\\Local\\Temp\\ipykernel_14240\\3394799362.py:5: UserWarning: Shapely 2.0 is installed, but because PyGEOS is also installed, GeoPandas will still use PyGEOS by default for now. To force to use and test Shapely 2.0, you have to set the environment variable USE_PYGEOS=0. You can do this before starting the Python process, or in your code before importing geopandas:\n",
      "\n",
      "import os\n",
      "os.environ['USE_PYGEOS'] = '0'\n",
      "import geopandas\n",
      "\n",
      "In a future release, GeoPandas will switch to using Shapely by default. If you are using PyGEOS directly (calling PyGEOS functions on geometries from GeoPandas), this will then stop working and you are encouraged to migrate from PyGEOS to Shapely 2.0 (https://shapely.readthedocs.io/en/latest/migration_pygeos.html).\n",
      "  import geopandas as gpd\n"
     ]
    }
   ],
   "source": [
    "import os\n",
    "import folium\n",
    "import numpy as np\n",
    "import pandas as pd\n",
    "import geopandas as gpd\n",
    "from tqdm import tqdm\n",
    "from folium.plugins import FastMarkerCluster\n",
    "# Size matters\n",
    "# with 1k circles html is 1MB\n",
    "# To find other tilesets maybe accessible see https://leaflet-extras.github.io/leaflet-providers/preview/\n",
    "\n",
    "\n",
    "def find_middle(input_list):\n",
    "    middle = float(len(input_list))/2\n",
    "    if middle % 2 != 0:\n",
    "        return input_list[int(middle - .5)]\n",
    "    else:\n",
    "\n",
    "        return ( input_list[int(middle)]+ input_list[int(middle-1)])/2"
   ]
  },
  {
   "cell_type": "code",
   "execution_count": 2,
   "id": "8912cfd8",
   "metadata": {},
   "outputs": [
    {
     "name": "stderr",
     "output_type": "stream",
     "text": [
      "100%|██████████| 102/102 [00:14<00:00,  7.18it/s]\n"
     ]
    }
   ],
   "source": [
    "DIR_OUTPUT = \"./callejeros\"\n",
    "\n",
    "# Prepare clusters, one per municipality\n",
    "MARKER_CLUSTERS = []\n",
    "CIRCLES = []\n",
    "\n",
    "# For every COMUNIDAD AUTONOMA...\n",
    "_comunidad = \"comunidad-de-madrid\"\n",
    "_filepath = os.path.join(DIR_OUTPUT, _comunidad)\n",
    "\n",
    "# ... load data\n",
    "df = pd.read_excel(f\"{_filepath}_streets.xlsx\")\n",
    "dispdf = df[df[\"Display\"] == 1]\n",
    "municipios = dispdf[\"Municipality\"].unique()\n",
    "\n",
    "# For every MUNICIPALITY...\n",
    "for municipio in tqdm(municipios):\n",
    "    # ... create marker cluster\n",
    "    # MARKER_CLUSTERS.append(FastMarkerCluster(data=(),name=municipio))\n",
    "\n",
    "    # ... load municipality data\n",
    "    _gjson_fp = os.path.join(_filepath, f\"{_comunidad}_{municipio}.geojson\")\n",
    "    _gjson = gpd.read_file(_gjson_fp)\n",
    "\n",
    "    # ... list streets to be displayed on the map\n",
    "    _mun_df = dispdf[dispdf[\"Municipality\"] == municipio]\n",
    "    _streets = _mun_df[\"Street_name\"].to_list()\n",
    "\n",
    "    # For every STREET to de displayed...\n",
    "    for street in _streets:\n",
    "        geometry = _gjson[_gjson[\"Name\"] == street][\"geometry\"].iloc[0]\n",
    "        street_x, street_y = geometry.coords.xy\n",
    "        _x = find_middle(np.array(street_x))\n",
    "        _y = find_middle(np.array(street_y))\n",
    "        _mun = municipio.replace('-',' ').capitalize()\n",
    "        popup = f\"<b>{street}, {_mun}</b>\"\n",
    "        # folium.Marker([_y, _x], popup=popup).add_to(MARKER_CLUSTERS[-1])\n",
    "        circ = folium.Circle(radius=50, \n",
    "                             location=(_y,_x),\n",
    "                             popup=popup,\n",
    "                             color=\"crimson\",\n",
    "                             fill=True )\n",
    "        CIRCLES.append(circ)\n",
    "\n"
   ]
  },
  {
   "cell_type": "code",
   "execution_count": 16,
   "id": "a384ef6c",
   "metadata": {},
   "outputs": [],
   "source": [
    "m = folium.Map(location=[40.419302, -3.692759],\n",
    "               zoom_start=6,\n",
    "               tiles=\"OpenStreetMap\",  #cartodbdarkmatter is also nice\n",
    "               name =\"OpenStreetMap\",\n",
    "               control_scale=True\n",
    "              )\n",
    "folium.TileLayer(tiles=\"cartodbpositron\", attr='CartoDB', name=\"CartoDB light\").add_to(m)\n",
    "folium.TileLayer(tiles=\"cartodbdark_matter\", attr=\"CartoDB\", name=\"CartoDB dark\").add_to(m)\n",
    "# Create marker cluster, then add markers to cluster rather than to the map\n",
    "# marker_cluster = folium.MarkerCluster(\"Cluster Name\").add_to(my_map)\n",
    "# folium.Marker([lon, lat]).add_to(marker_cluster)\n",
    "#for mcluster in MARKER_CLUSTERS:\n",
    "#    mcluster.add_to(m)\n",
    "\n",
    "for circ in CIRCLES:\n",
    "    circ.add_to(m)\n",
    "\n",
    "# Add geoJson object\n",
    "# if added from URL the map.html will weigh like a normal map\n",
    "# if added from a local file, the map.html contains a copy of the geojson object\n",
    "geojson_url = \"https://raw.githubusercontent.com/pyubero/HPStvcIOWfCj/main/mappable.geojson\"\n",
    "folium.GeoJson(geojson_url, name='Lugares con \"Mayor\"').add_to(m)    \n",
    "\n",
    "# Add list of coordinates as PolyLines\n",
    "# folium.PolyLine(trail_coordinates, tooltip=\"Coast\").add_to(m)\n",
    "\n",
    "\n",
    "folium.LayerControl().add_to(m)\n",
    "m.save(\"map.html\")\n"
   ]
  },
  {
   "cell_type": "code",
   "execution_count": null,
   "id": "2e12ae18",
   "metadata": {},
   "outputs": [],
   "source": []
  }
 ],
 "metadata": {
  "kernelspec": {
   "display_name": "Python 3 (ipykernel)",
   "language": "python",
   "name": "python3"
  },
  "language_info": {
   "codemirror_mode": {
    "name": "ipython",
    "version": 3
   },
   "file_extension": ".py",
   "mimetype": "text/x-python",
   "name": "python",
   "nbconvert_exporter": "python",
   "pygments_lexer": "ipython3",
   "version": "3.10.9"
  }
 },
 "nbformat": 4,
 "nbformat_minor": 5
}
